{
 "cells": [
  {
   "cell_type": "code",
   "execution_count": 3,
   "id": "698eef04",
   "metadata": {},
   "outputs": [
    {
     "name": "stdout",
     "output_type": "stream",
     "text": [
      "Данные успешно сохранены в CSV файл\n"
     ]
    }
   ],
   "source": [
    "import requests\n",
    "from lxml import html\n",
    "import csv\n",
    "\n",
    "# URL сайта для парсинга\n",
    "url = 'https://www.worldometers.info/coronavirus/'\n",
    "\n",
    "# Заголовок HTTP-запроса с пользовательским агентом\n",
    "headers = {\n",
    "    'User-Agent': 'Mozilla/5.0 (Windows NT 10.0; Win64; x64) AppleWebKit/537.36 (KHTML, like Gecko) Chrome/58.0.3029.110 Safari/537.3'\n",
    "}\n",
    "\n",
    "try:\n",
    "    # Отправляем GET-запрос\n",
    "    response = requests.get(url, headers=headers)\n",
    "    response.raise_for_status()  # Проверяем статус ответа\n",
    "\n",
    "    # Парсинг HTML\n",
    "    tree = html.fromstring(response.content)\n",
    "\n",
    "    # Выражение XPath для выбора элементов таблицы\n",
    "    rows = tree.xpath('//table//tr')\n",
    "\n",
    "    # Извлечение данных из таблицы\n",
    "    data = []\n",
    "    for row in rows:\n",
    "        cell_data = [cell.text_content().strip() for cell in row.xpath('td')]\n",
    "        if cell_data:  # Пропускаем пустые строки\n",
    "            data.append(cell_data)\n",
    "\n",
    "    # Сохранение данных в CSV файл\n",
    "    with open('table_data.csv', 'w', newline='', encoding='utf-8') as csvfile:\n",
    "        csv_writer = csv.writer(csvfile)\n",
    "        csv_writer.writerows(data)\n",
    "\n",
    "    \n",
    "    print(\"Данные успешно сохранены в CSV файл\")\n",
    "\n",
    "except requests.RequestException as e:\n",
    "    print(f\"Произошла ошибка при выполнении запроса: {e}\")\n",
    "\n",
    "except (IndexError, ValueError) as e:\n",
    "    print(f\"Ошибка при извлечении данных из HTML: {e}\")\n",
    "\n",
    "except Exception as e:\n",
    "    print(f\"Произошла непредвиденная ошибка: {e}\")"
   ]
  },
  {
   "cell_type": "code",
   "execution_count": null,
   "id": "4ee2e344",
   "metadata": {},
   "outputs": [],
   "source": []
  }
 ],
 "metadata": {
  "kernelspec": {
   "display_name": "Python 3 (ipykernel)",
   "language": "python",
   "name": "python3"
  },
  "language_info": {
   "codemirror_mode": {
    "name": "ipython",
    "version": 3
   },
   "file_extension": ".py",
   "mimetype": "text/x-python",
   "name": "python",
   "nbconvert_exporter": "python",
   "pygments_lexer": "ipython3",
   "version": "3.7.0"
  }
 },
 "nbformat": 4,
 "nbformat_minor": 5
}
