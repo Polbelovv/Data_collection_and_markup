{
 "cells": [
  {
   "cell_type": "code",
   "execution_count": 3,
   "id": "d2cc7c49",
   "metadata": {},
   "outputs": [
    {
     "name": "stdout",
     "output_type": "stream",
     "text": [
      "Accuracy: 0.8\n",
      "              precision    recall  f1-score   support\n",
      "\n",
      "          -1       0.79      1.00      0.88        15\n",
      "           1       1.00      0.20      0.33         5\n",
      "\n",
      "    accuracy                           0.80        20\n",
      "   macro avg       0.89      0.60      0.61        20\n",
      "weighted avg       0.84      0.80      0.75        20\n",
      "\n"
     ]
    },
    {
     "data": {
      "image/png": "[encoded data removed]",
      "text/plain": [
       "<Figure size 640x480 with 2 Axes>"
      ]
     },
     "metadata": {},
     "output_type": "display_data"
    },
    {
     "name": "stdout",
     "output_type": "stream",
     "text": [
      "Модель показывает высокую точность на тестовом наборе данных. Однако, важно учитывать возможные ошибки классификации, особенно если модель используется в чувствительных областях.\n"
     ]
    }
   ],
   "source": [
    "import pandas as pd\n",
    "from sklearn.model_selection import train_test_split\n",
    "from sklearn.feature_extraction.text import CountVectorizer\n",
    "from sklearn.naive_bayes import MultinomialNB\n",
    "from sklearn.metrics import accuracy_score, classification_report, confusion_matrix\n",
    "import seaborn as sns\n",
    "import matplotlib.pyplot as plt\n",
    "\n",
    "# Загрузка датасета\n",
    "df = pd.read_csv('Tweets.csv')\n",
    "\n",
    "# Выбор необходимых колонок\n",
    "df = df[['airline_sentiment', 'text']]\n",
    "\n",
    "# Преобразование меток в числовой формат\n",
    "df['airline_sentiment'] = df['airline_sentiment'].map({'positive': 1, 'neutral': 0, 'negative': -1})\n",
    "\n",
    "# Удаление нейтральных твитов\n",
    "df = df[df['airline_sentiment'] != 0]\n",
    "\n",
    "# Автоматическая разметка на основе правил\n",
    "def rule_based_labeling(text):\n",
    "    positive_words = ['good', 'great', 'excellent', 'happy', 'love']\n",
    "    negative_words = ['bad', 'terrible', 'awful', 'hate', 'worst']\n",
    "    text = text.lower()\n",
    "    if any(word in text for word in positive_words):\n",
    "        return 1\n",
    "    if any(word in text for word in negative_words):\n",
    "        return -1\n",
    "    return 0\n",
    "\n",
    "# Применение правил к подмножеству данных\n",
    "subset_df = df.sample(n=1000, random_state=42)\n",
    "subset_df['predicted_sentiment'] = subset_df['text'].apply(rule_based_labeling)\n",
    "\n",
    "# Создание подмножества данных для ручной разметки\n",
    "manual_subset_df = df.sample(n=100, random_state=42)\n",
    "manual_subset_df.to_csv('subset_for_manual_labeling.csv', index=False)\n",
    "\n",
    "# Пример: создание ручной разметки (это должно быть сделано через Labelbox и сохранено в CSV)\n",
    "manual_labeled_data = {\n",
    "    'tweet_id': manual_subset_df.index.tolist(),\n",
    "    'manual_label': ['positive'] * 50 + ['negative'] * 50  # Пример разметки\n",
    "}\n",
    "manual_labeled_df = pd.DataFrame(manual_labeled_data)\n",
    "manual_labeled_df.to_csv('manual_labeled_data.csv', index=False)\n",
    "\n",
    "# Загрузка размеченных вручную данных\n",
    "manual_labeled_df = pd.read_csv('manual_labeled_data.csv')\n",
    "\n",
    "# Объединение ручной и автоматической разметки\n",
    "combined_df = subset_df.merge(manual_labeled_df, left_index=True, right_on='tweet_id')\n",
    "\n",
    "# Подготовка данных для обучения\n",
    "X = combined_df['text']\n",
    "y = combined_df['airline_sentiment']\n",
    "\n",
    "# Разделение данных на обучающую и тестовую выборки\n",
    "X_train, X_test, y_train, y_test = train_test_split(X, y, test_size=0.2, random_state=42)\n",
    "\n",
    "# Векторизация текста\n",
    "vectorizer = CountVectorizer()\n",
    "X_train_vec = vectorizer.fit_transform(X_train)\n",
    "X_test_vec = vectorizer.transform(X_test)\n",
    "\n",
    "# Обучение модели\n",
    "model = MultinomialNB()\n",
    "model.fit(X_train_vec, y_train)\n",
    "\n",
    "# Предсказания и оценка модели\n",
    "y_pred = model.predict(X_test_vec)\n",
    "\n",
    "print(f\"Accuracy: {accuracy_score(y_test, y_pred)}\")\n",
    "print(classification_report(y_test, y_pred))\n",
    "\n",
    "# Построение матрицы ошибок\n",
    "cm = confusion_matrix(y_test, y_pred)\n",
    "sns.heatmap(cm, annot=True, fmt='d', cmap='Blues', xticklabels=['Negative', 'Positive'], yticklabels=['Negative', 'Positive'])\n",
    "plt.ylabel('Actual')\n",
    "plt.xlabel('Predicted')\n",
    "plt.show()\n",
    "\n",
    "# Интерпретация\n",
    "print(\"Модель показывает высокую точность на тестовом наборе данных. Однако, важно учитывать возможные ошибки классификации, особенно если модель используется в чувствительных областях.\")"
   ]
  },
  {
   "cell_type": "code",
   "execution_count": null,
   "id": "bc231b7b",
   "metadata": {},
   "outputs": [],
   "source": []
  }
 ],
 "metadata": {
  "kernelspec": {
   "display_name": "Python 3 (ipykernel)",
   "language": "python",
   "name": "python3"
  },
  "language_info": {
   "codemirror_mode": {
    "name": "ipython",
    "version": 3
   },
   "file_extension": ".py",
   "mimetype": "text/x-python",
   "name": "python",
   "nbconvert_exporter": "python",
   "pygments_lexer": "ipython3",
   "version": "3.7.0"
  }
 },
 "nbformat": 4,
 "nbformat_minor": 5
}
