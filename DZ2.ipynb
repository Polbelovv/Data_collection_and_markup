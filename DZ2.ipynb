{
 "cells": [
  {
   "cell_type": "code",
   "execution_count": 8,
   "id": "edb9e51b",
   "metadata": {},
   "outputs": [
    {
     "name": "stdout",
     "output_type": "stream",
     "text": [
      "Данные о книгах успешно сохранены в books_data.json файл\n"
     ]
    }
   ],
   "source": [
    "import requests\n",
    "from bs4 import BeautifulSoup\n",
    "import json\n",
    "\n",
    "\n",
    "url = 'http://books.toscrape.com/'\n",
    "response = requests.get(url)\n",
    "\n",
    "if response.status_code == 200:\n",
    "    soup = BeautifulSoup(response.content, 'html.parser')\n",
    "    books = []\n",
    "    \n",
    "    for book in soup.find_all('article', class_='product_pod'):\n",
    "        title = book.h3.a['title']\n",
    "        price_text = book.find('p', class_='price_color').get_text().replace('£', '').strip()\n",
    "        price = float(price_text) if price_text else None\n",
    "        \n",
    "        availability = book.find('p', class_='instock availability').get_text()\n",
    "        stock = None\n",
    "\n",
    "        if '(' in availability:\n",
    "            stock = int(availability.split('(')[1].split()[0])\n",
    "\n",
    "        description_elem = book.find('p')\n",
    "        description = description_elem.get_text() if description_elem else None\n",
    "        \n",
    "        book_info = {\n",
    "            'Title': title,\n",
    "            'Price': price,\n",
    "            'Stock': stock,\n",
    "            'Description': description\n",
    "        }\n",
    "        books.append(book_info)\n",
    "    \n",
    "    with open('books_data.json', 'w') as f:\n",
    "        json.dump(books, f, indent=4)\n",
    "        \n",
    "    print('Данные о книгах успешно сохранены в books_data.json файл')\n",
    "else:\n",
    "    print('Не удалось получить доступ к сайту')"
   ]
  },
  {
   "cell_type": "code",
   "execution_count": null,
   "id": "3e44c065",
   "metadata": {},
   "outputs": [],
   "source": []
  }
 ],
 "metadata": {
  "kernelspec": {
   "display_name": "Python 3 (ipykernel)",
   "language": "python",
   "name": "python3"
  },
  "language_info": {
   "codemirror_mode": {
    "name": "ipython",
    "version": 3
   },
   "file_extension": ".py",
   "mimetype": "text/x-python",
   "name": "python",
   "nbconvert_exporter": "python",
   "pygments_lexer": "ipython3",
   "version": "3.7.0"
  }
 },
 "nbformat": 4,
 "nbformat_minor": 5
}
