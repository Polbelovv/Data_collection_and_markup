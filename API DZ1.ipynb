{
 "cells": [
  {
   "cell_type": "markdown",
   "id": "350cf396",
   "metadata": {},
   "source": [
    "1. Что потребуется это установить библиотеку requests для отправки HTTP запросов. Можно установить ее с помощью команды(у меня уже установлена): "
   ]
  },
  {
   "cell_type": "code",
   "execution_count": 3,
   "id": "3f4585fa",
   "metadata": {},
   "outputs": [
    {
     "name": "stdout",
     "output_type": "stream",
     "text": [
      "Requirement already satisfied: requests in f:\\anaconda3\\envs\\my_ml\\lib\\site-packages (2.28.1)\n",
      "Requirement already satisfied: urllib3<1.27,>=1.21.1 in f:\\anaconda3\\envs\\my_ml\\lib\\site-packages (from requests) (1.26.14)\n",
      "Requirement already satisfied: charset-normalizer<3,>=2 in f:\\anaconda3\\envs\\my_ml\\lib\\site-packages (from requests) (2.0.4)\n",
      "Requirement already satisfied: idna<4,>=2.5 in f:\\anaconda3\\envs\\my_ml\\lib\\site-packages (from requests) (3.4)\n",
      "Requirement already satisfied: certifi>=2017.4.17 in f:\\anaconda3\\envs\\my_ml\\lib\\site-packages (from requests) (2022.12.7)\n"
     ]
    },
    {
     "name": "stderr",
     "output_type": "stream",
     "text": [
      "WARNING: Ignoring invalid distribution -illow (f:\\anaconda3\\envs\\my_ml\\lib\\site-packages)\n",
      "WARNING: Ignoring invalid distribution -illow (f:\\anaconda3\\envs\\my_ml\\lib\\site-packages)\n",
      "WARNING: Ignoring invalid distribution -illow (f:\\anaconda3\\envs\\my_ml\\lib\\site-packages)\n",
      "WARNING: Ignoring invalid distribution -illow (f:\\anaconda3\\envs\\my_ml\\lib\\site-packages)\n",
      "WARNING: Ignoring invalid distribution -illow (f:\\anaconda3\\envs\\my_ml\\lib\\site-packages)\n",
      "WARNING: Ignoring invalid distribution -illow (f:\\anaconda3\\envs\\my_ml\\lib\\site-packages)\n"
     ]
    }
   ],
   "source": [
    "!pip install requests"
   ]
  },
  {
   "cell_type": "markdown",
   "id": "44ab6339",
   "metadata": {},
   "source": [
    "Далее, нам понадобится зарегистрироваться на сайте Foursquare для получения ключа доступа к их API. После получения ключа, мы сможем делать запросы к API Foursquare. Далее ниже приведен пример Python скрипта, который позволяет пользователю ввести категорию заведения, и отображает название, адрес и рейтинг каждого заведения в этой категории:"
   ]
  },
  {
   "cell_type": "code",
   "execution_count": null,
   "id": "93527f64",
   "metadata": {},
   "outputs": [],
   "source": [
    "import requests\n",
    "\n",
    "def search_venues(category):\n",
    "    # Ваш API ключ Foursquare\n",
    "    CLIENT_ID = 'YOUR_CLIENT_ID'\n",
    "    CLIENT_SECRET = 'YOUR_CLIENT_SECRET'\n",
    "    VERSION = '20220301'  # Дата версии API Foursquare\n",
    "\n",
    "    url = f\"https://api.foursquare.com/v2/venues/explore?client_id={CLIENT_ID}&client_secret={CLIENT_SECRET}&v={VERSION}&near=city&query={category}\"\n",
    "    response = requests.get(url)\n",
    "    data = response.json()\n",
    "\n",
    "    if response.status_code != 200:\n",
    "        print(\"Ошибка при получении данных\")\n",
    "        return\n",
    "\n",
    "    venues = data['response']['groups'][0]['items']\n",
    "\n",
    "    for venue in venues:\n",
    "        name = venue['venue']['name']\n",
    "        address = venue['venue']['location']['address'] if 'address' in venue['venue']['location'] else 'Адрес не указан'\n",
    "        rating = venue['venue']['rating'] if 'rating' in venue['venue'] else 'Рейтинг отсутствует'\n",
    "        \n",
    "        print(f\"Название: {name}\")\n",
    "        print(f\"Адрес: {address}\")\n",
    "        print(f\"Рейтинг: {rating}\")\n",
    "        print()\n",
    "\n",
    "if __name__ == \"__main__\":\n",
    "    category = input(\"Введите категорию заведений, которые вы ищете: \")\n",
    "    search_venues(category)"
   ]
  },
  {
   "cell_type": "markdown",
   "id": "6e8e2c7f",
   "metadata": {},
   "source": [
    "Не забудьте заменить 'YOUR_CLIENT_ID' и 'YOUR_CLIENT_SECRET' на свои собственные ключи, полученные от Foursquare."
   ]
  }
 ],
 "metadata": {
  "kernelspec": {
   "display_name": "Python 3 (ipykernel)",
   "language": "python",
   "name": "python3"
  },
  "language_info": {
   "codemirror_mode": {
    "name": "ipython",
    "version": 3
   },
   "file_extension": ".py",
   "mimetype": "text/x-python",
   "name": "python",
   "nbconvert_exporter": "python",
   "pygments_lexer": "ipython3",
   "version": "3.7.0"
  }
 },
 "nbformat": 4,
 "nbformat_minor": 5
}
