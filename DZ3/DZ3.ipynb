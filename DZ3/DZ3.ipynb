{
 "cells": [
  {
   "cell_type": "code",
   "execution_count": 1,
   "id": "3f2041fd",
   "metadata": {},
   "outputs": [
    {
     "name": "stdout",
     "output_type": "stream",
     "text": [
      "Данные успешно загружены в базу данных SQLite.\n",
      "(1, 'A Light in the Attic', 51.77, None, '\\n\\n\\n\\n\\n\\n')\n",
      "(2, 'Tipping the Velvet', 53.74, None, '\\n\\n\\n\\n\\n\\n')\n",
      "(3, 'Soumission', 50.1, None, '\\n\\n\\n\\n\\n\\n')\n",
      "(4, 'Sharp Objects', 47.82, None, '\\n\\n\\n\\n\\n\\n')\n",
      "(5, 'Sapiens: A Brief History of Humankind', 54.23, None, '\\n\\n\\n\\n\\n\\n')\n",
      "(6, 'The Requiem Red', 22.65, None, '\\n\\n\\n\\n\\n\\n')\n",
      "(7, 'The Dirty Little Secrets of Getting Your Dream Job', 33.34, None, '\\n\\n\\n\\n\\n\\n')\n",
      "(8, 'The Coming Woman: A Novel Based on the Life of the Infamous Feminist, Victoria Woodhull', 17.93, None, '\\n\\n\\n\\n\\n\\n')\n",
      "(9, 'The Boys in the Boat: Nine Americans and Their Epic Quest for Gold at the 1936 Berlin Olympics', 22.6, None, '\\n\\n\\n\\n\\n\\n')\n",
      "(10, 'The Black Maria', 52.15, None, '\\n\\n\\n\\n\\n\\n')\n",
      "(11, 'Starving Hearts (Triangular Trade Trilogy, #1)', 13.99, None, '\\n\\n\\n\\n\\n\\n')\n",
      "(12, \"Shakespeare's Sonnets\", 20.66, None, '\\n\\n\\n\\n\\n\\n')\n",
      "(13, 'Set Me Free', 17.46, None, '\\n\\n\\n\\n\\n\\n')\n",
      "(14, \"Scott Pilgrim's Precious Little Life (Scott Pilgrim #1)\", 52.29, None, '\\n\\n\\n\\n\\n\\n')\n",
      "(15, 'Rip it Up and Start Again', 35.02, None, '\\n\\n\\n\\n\\n\\n')\n",
      "(16, 'Our Band Could Be Your Life: Scenes from the American Indie Underground, 1981-1991', 57.25, None, '\\n\\n\\n\\n\\n\\n')\n",
      "(17, 'Olio', 23.88, None, '\\n\\n\\n\\n\\n\\n')\n",
      "(18, 'Mesaerion: The Best Science Fiction Stories 1800-1849', 37.59, None, '\\n\\n\\n\\n\\n\\n')\n",
      "(19, 'Libertarianism for Beginners', 51.33, None, '\\n\\n\\n\\n\\n\\n')\n",
      "(20, \"It's Only the Himalayas\", 45.17, None, '\\n\\n\\n\\n\\n\\n')\n"
     ]
    }
   ],
   "source": [
    "import sqlite3\n",
    "import json\n",
    "\n",
    "# Загрузка данных из JSON-файла\n",
    "with open('books_data.json', 'r') as f:\n",
    "    books_data = json.load(f)\n",
    "\n",
    "# Подключение к базе данных SQLite (если базы данных не существует, она будет создана)\n",
    "conn = sqlite3.connect('books.db')\n",
    "cursor = conn.cursor()\n",
    "\n",
    "# Создание таблицы в базе данных SQLite\n",
    "cursor.execute('''CREATE TABLE IF NOT EXISTS books\n",
    "                (id INTEGER PRIMARY KEY AUTOINCREMENT,\n",
    "                title TEXT,\n",
    "                price REAL,\n",
    "                stock TEXT,\n",
    "                description TEXT)''')\n",
    "\n",
    "# Вставка данных из JSON в базу данных SQLite\n",
    "for book in books_data:\n",
    "    cursor.execute(\"INSERT INTO books (title, price, stock, description) VALUES (?, ?, ?, ?)\",\n",
    "                   (book['Title'], book['Price'], book['Stock'], book['Description']))\n",
    "\n",
    "conn.commit()\n",
    "conn.close()\n",
    "\n",
    "print('Данные успешно загружены в базу данных SQLite.')\n",
    "\n",
    "# По желанию, можно вывести вставленные данные\n",
    "conn = sqlite3.connect('books.db')\n",
    "cursor = conn.cursor()\n",
    "\n",
    "cursor.execute(\"SELECT * FROM books\")\n",
    "rows = cursor.fetchall()\n",
    "for row in rows:\n",
    "    print(row)\n",
    "\n",
    "conn.close()"
   ]
  },
  {
   "cell_type": "code",
   "execution_count": null,
   "id": "f0130b48",
   "metadata": {},
   "outputs": [],
   "source": []
  }
 ],
 "metadata": {
  "kernelspec": {
   "display_name": "Python 3 (ipykernel)",
   "language": "python",
   "name": "python3"
  },
  "language_info": {
   "codemirror_mode": {
    "name": "ipython",
    "version": 3
   },
   "file_extension": ".py",
   "mimetype": "text/x-python",
   "name": "python",
   "nbconvert_exporter": "python",
   "pygments_lexer": "ipython3",
   "version": "3.9.7"
  }
 },
 "nbformat": 4,
 "nbformat_minor": 5
}
