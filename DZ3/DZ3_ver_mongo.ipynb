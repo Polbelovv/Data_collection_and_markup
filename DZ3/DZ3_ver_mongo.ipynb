{
 "cells": [
  {
   "cell_type": "code",
   "execution_count": 1,
   "id": "d8a7784a",
   "metadata": {},
   "outputs": [
    {
     "name": "stdout",
     "output_type": "stream",
     "text": [
      "Данные успешно загружены в MongoDB.\n",
      "{'_id': ObjectId('660452ed543b229cdcb44007'), 'Title': 'A Light in the Attic', 'Price': 51.77, 'Stock': None, 'Description': '\\n\\n\\n\\n\\n\\n'}\n",
      "{'_id': ObjectId('660452ed543b229cdcb44008'), 'Title': 'Tipping the Velvet', 'Price': 53.74, 'Stock': None, 'Description': '\\n\\n\\n\\n\\n\\n'}\n",
      "{'_id': ObjectId('660452ed543b229cdcb44009'), 'Title': 'Soumission', 'Price': 50.1, 'Stock': None, 'Description': '\\n\\n\\n\\n\\n\\n'}\n",
      "{'_id': ObjectId('660452ed543b229cdcb4400a'), 'Title': 'Sharp Objects', 'Price': 47.82, 'Stock': None, 'Description': '\\n\\n\\n\\n\\n\\n'}\n",
      "{'_id': ObjectId('660452ed543b229cdcb4400b'), 'Title': 'Sapiens: A Brief History of Humankind', 'Price': 54.23, 'Stock': None, 'Description': '\\n\\n\\n\\n\\n\\n'}\n",
      "{'_id': ObjectId('660452ed543b229cdcb4400c'), 'Title': 'The Requiem Red', 'Price': 22.65, 'Stock': None, 'Description': '\\n\\n\\n\\n\\n\\n'}\n",
      "{'_id': ObjectId('660452ed543b229cdcb4400d'), 'Title': 'The Dirty Little Secrets of Getting Your Dream Job', 'Price': 33.34, 'Stock': None, 'Description': '\\n\\n\\n\\n\\n\\n'}\n",
      "{'_id': ObjectId('660452ed543b229cdcb4400e'), 'Title': 'The Coming Woman: A Novel Based on the Life of the Infamous Feminist, Victoria Woodhull', 'Price': 17.93, 'Stock': None, 'Description': '\\n\\n\\n\\n\\n\\n'}\n",
      "{'_id': ObjectId('660452ed543b229cdcb4400f'), 'Title': 'The Boys in the Boat: Nine Americans and Their Epic Quest for Gold at the 1936 Berlin Olympics', 'Price': 22.6, 'Stock': None, 'Description': '\\n\\n\\n\\n\\n\\n'}\n",
      "{'_id': ObjectId('660452ed543b229cdcb44010'), 'Title': 'The Black Maria', 'Price': 52.15, 'Stock': None, 'Description': '\\n\\n\\n\\n\\n\\n'}\n",
      "{'_id': ObjectId('660452ed543b229cdcb44011'), 'Title': 'Starving Hearts (Triangular Trade Trilogy, #1)', 'Price': 13.99, 'Stock': None, 'Description': '\\n\\n\\n\\n\\n\\n'}\n",
      "{'_id': ObjectId('660452ed543b229cdcb44012'), 'Title': \"Shakespeare's Sonnets\", 'Price': 20.66, 'Stock': None, 'Description': '\\n\\n\\n\\n\\n\\n'}\n",
      "{'_id': ObjectId('660452ed543b229cdcb44013'), 'Title': 'Set Me Free', 'Price': 17.46, 'Stock': None, 'Description': '\\n\\n\\n\\n\\n\\n'}\n",
      "{'_id': ObjectId('660452ed543b229cdcb44014'), 'Title': \"Scott Pilgrim's Precious Little Life (Scott Pilgrim #1)\", 'Price': 52.29, 'Stock': None, 'Description': '\\n\\n\\n\\n\\n\\n'}\n",
      "{'_id': ObjectId('660452ed543b229cdcb44015'), 'Title': 'Rip it Up and Start Again', 'Price': 35.02, 'Stock': None, 'Description': '\\n\\n\\n\\n\\n\\n'}\n",
      "{'_id': ObjectId('660452ed543b229cdcb44016'), 'Title': 'Our Band Could Be Your Life: Scenes from the American Indie Underground, 1981-1991', 'Price': 57.25, 'Stock': None, 'Description': '\\n\\n\\n\\n\\n\\n'}\n",
      "{'_id': ObjectId('660452ed543b229cdcb44017'), 'Title': 'Olio', 'Price': 23.88, 'Stock': None, 'Description': '\\n\\n\\n\\n\\n\\n'}\n",
      "{'_id': ObjectId('660452ed543b229cdcb44018'), 'Title': 'Mesaerion: The Best Science Fiction Stories 1800-1849', 'Price': 37.59, 'Stock': None, 'Description': '\\n\\n\\n\\n\\n\\n'}\n",
      "{'_id': ObjectId('660452ed543b229cdcb44019'), 'Title': 'Libertarianism for Beginners', 'Price': 51.33, 'Stock': None, 'Description': '\\n\\n\\n\\n\\n\\n'}\n",
      "{'_id': ObjectId('660452ed543b229cdcb4401a'), 'Title': \"It's Only the Himalayas\", 'Price': 45.17, 'Stock': None, 'Description': '\\n\\n\\n\\n\\n\\n'}\n"
     ]
    }
   ],
   "source": [
    "import json\n",
    "from pymongo import MongoClient\n",
    "\n",
    "# Подключаемся к MongoDB\n",
    "client = MongoClient('mongodb://localhost:27017/')\n",
    "db = client['mydatabase']  # Название вашей базы данных\n",
    "collection = db['books']  # Название вашей коллекции\n",
    "\n",
    "# Загрузка данных из JSON-файла\n",
    "with open('books_data.json', 'r') as f:\n",
    "    books_data = json.load(f)\n",
    "\n",
    "# Вставка данных из JSON в MongoDB\n",
    "collection.insert_many(books_data)\n",
    "\n",
    "print('Данные успешно загружены в MongoDB.')\n",
    "\n",
    "# По желанию, можно вывести вставленные данные\n",
    "for book in collection.find():\n",
    "    print(book)"
   ]
  },
  {
   "cell_type": "code",
   "execution_count": null,
   "id": "ec8c4464",
   "metadata": {},
   "outputs": [],
   "source": []
  }
 ],
 "metadata": {
  "kernelspec": {
   "display_name": "Python 3 (ipykernel)",
   "language": "python",
   "name": "python3"
  },
  "language_info": {
   "codemirror_mode": {
    "name": "ipython",
    "version": 3
   },
   "file_extension": ".py",
   "mimetype": "text/x-python",
   "name": "python",
   "nbconvert_exporter": "python",
   "pygments_lexer": "ipython3",
   "version": "3.11.8"
  }
 },
 "nbformat": 4,
 "nbformat_minor": 5
}
